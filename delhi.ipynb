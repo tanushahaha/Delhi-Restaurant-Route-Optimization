{
 "cells": [
  {
   "cell_type": "code",
   "execution_count": 3,
   "metadata": {},
   "outputs": [
    {
     "name": "stdout",
     "output_type": "stream",
     "text": [
      "   longitude   latitude                   geometry\n",
      "0  77.070819  28.590664  POINT (77.07082 28.59066)\n",
      "1  77.071500  28.591582   POINT (77.0715 28.59158)\n",
      "2  77.072300  28.592700    POINT (77.0723 28.5927)\n",
      "3  77.073400  28.593800    POINT (77.0734 28.5938)\n"
     ]
    }
   ],
   "source": [
    "import pandas as pd\n",
    "import geopandas as gpd\n",
    "from shapely.geometry import Point, LineString\n",
    "import leafmap\n",
    "import polyline\n",
    "import requests\n",
    "\n",
    "# Load the restaurant data\n",
    "df = pd.read_csv('restaurants1.csv')\n",
    "df = df[['longitude', 'latitude']]\n",
    "\n",
    "# Convert to GeoDataFrame\n",
    "geometry = gpd.GeoSeries.from_xy(df.longitude, df.latitude, crs=\"EPSG:4326\")\n",
    "gdf = gpd.GeoDataFrame(df, geometry=geometry, crs=\"EPSG:4326\")\n",
    "\n",
    "print(gdf.head())\n"
   ]
  },
  {
   "cell_type": "code",
   "execution_count": 4,
   "metadata": {},
   "outputs": [],
   "source": [
    "import requests\n",
    "import polyline\n",
    "\n",
    "def get_route_coordinates(df):\n",
    "    coordinates = ';'.join([f\"{row['longitude']},{row['latitude']}\" for index, row in df.iterrows()])\n",
    "    return coordinates\n",
    "\n",
    "def fetch_route(coordinates):\n",
    "    url = f\"https://router.project-osrm.org/route/v1/driving/{coordinates}?overview=full\"\n",
    "    response = requests.get(url)\n",
    "    data = response.json()\n",
    "    return data['routes'][0]['geometry']\n",
    "\n",
    "def decode_polyline(encoded_polyline):\n",
    "    decoded_polyline = polyline.decode(encoded_polyline, 5)\n",
    "    return [(lat, lon) for lon, lat in decoded_polyline]  # Reverse lat/lon order\n",
    "\n",
    "# Example usage\n",
    "coordinates = get_route_coordinates(df)\n",
    "encoded_polyline = fetch_route(coordinates)\n",
    "decoded_route = decode_polyline(encoded_polyline)\n"
   ]
  },
  {
   "cell_type": "code",
   "execution_count": 5,
   "metadata": {},
   "outputs": [
    {
     "name": "stdout",
     "output_type": "stream",
     "text": [
      "User Guide: https://docs.kepler.gl/docs/keplergl-jupyter\n"
     ]
    },
    {
     "data": {
      "application/vnd.jupyter.widget-view+json": {
       "model_id": "eb6928d8a52e4548a60ae8b62036c2b3",
       "version_major": 2,
       "version_minor": 0
      },
      "text/plain": [
       "KeplerGl(data={'Restaurants': {'index': [0, 1, 2, 3], 'columns': ['longitude', 'latitude'], 'data': [[77.07081…"
      ]
     },
     "metadata": {},
     "output_type": "display_data"
    }
   ],
   "source": [
    "import keplergl\n",
    "\n",
    "# Create Kepler.gl Map\n",
    "map_1 = keplergl.KeplerGl()\n",
    "\n",
    "# Add restaurant data to the map\n",
    "map_1.add_data(data=df, name=\"Restaurants\")\n",
    "\n",
    "# Add route data to the map\n",
    "route_df = pd.DataFrame(decoded_route, columns=['latitude', 'longitude'])\n",
    "map_1.add_data(data=route_df, name=\"Route\")\n",
    "\n",
    "# Show the map\n",
    "map_1\n"
   ]
  },
  {
   "cell_type": "code",
   "execution_count": 6,
   "metadata": {},
   "outputs": [
    {
     "name": "stdout",
     "output_type": "stream",
     "text": [
      "Encoded Polyline: cbomDq|kuMNJJTR~@BVGNS`@FDFDR_@FMBI?O?OI]k@yB[ESEC?KCKEUCQCKAc@Ee@IMGKGOUE[@e@XoBHWFIHEHAZDb@HTDVJJDFFP?B?B?H?PDJ}@LmA@Ek@YqAUgASy@GOA]vCIDM?_Eu@i@SERCJ`B\\HBBF?JYzAe@pCEFE@UEa@Mq@[AB?DABALcBo@OIIIQQMQAMCY@]b@mDNuALBB?FBM|@?HBFl@J\n",
      "Decoded Route: [(77.07097, 28.59058), (77.07091, 28.5905), (77.0708, 28.59044), (77.07048, 28.59034), (77.07036, 28.59032), (77.07028, 28.59036), (77.07011, 28.59046), (77.07008, 28.59042), (77.07005, 28.59038), (77.07021, 28.59028), (77.07028, 28.59024), (77.07033, 28.59022), (77.07041, 28.59022), (77.07049, 28.59022), (77.07064, 28.59027), (77.07125, 28.59049), (77.07128, 28.59063), (77.07131, 28.59073), (77.07131, 28.59075), (77.07133, 28.59081), (77.07136, 28.59087), (77.07138, 28.59098), (77.0714, 28.59107), (77.07141, 28.59113), (77.07144, 28.59131), (77.07149, 28.5915), (77.07153, 28.59157), (77.07157, 28.59163), (77.07168, 28.59171), (77.07182, 28.59174), (77.07201, 28.59173), (77.07257, 28.5916), (77.07269, 28.59155), (77.07274, 28.59151), (77.07277, 28.59146), (77.07278, 28.59141), (77.07275, 28.59127), (77.0727, 28.59109), (77.07267, 28.59098), (77.07261, 28.59086), (77.07258, 28.5908), (77.07254, 28.59076), (77.07254, 28.59067), (77.07254, 28.59065), (77.07254, 28.59063), (77.07254, 28.59058), (77.07251, 28.59049), (77.07282, 28.59043), (77.07321, 28.59036), (77.07324, 28.59035), (77.07337, 28.59057), (77.07348, 28.59098), (77.07358, 28.59134), (77.07362, 28.59163), (77.07363, 28.59171), (77.07287, 28.59186), (77.07284, 28.59191), (77.07284, 28.59198), (77.07311, 28.59294), (77.07321, 28.59315), (77.07311, 28.59318), (77.07305, 28.5932), (77.0729, 28.59271), (77.07288, 28.59266), (77.07284, 28.59264), (77.07278, 28.59264), (77.07232, 28.59277), (77.07159, 28.59296), (77.07155, 28.59299), (77.07154, 28.59302), (77.07157, 28.59313), (77.07164, 28.5933), (77.07178, 28.59355), (77.07176, 28.59356), (77.07173, 28.59356), (77.07171, 28.59357), (77.07164, 28.59358), (77.07188, 28.59408), (77.07193, 28.59416), (77.07198, 28.59421), (77.07207, 28.5943), (77.07216, 28.59437), (77.07223, 28.59438), (77.07236, 28.5944), (77.07251, 28.59439), (77.07338, 28.59421), (77.07381, 28.59413), (77.07379, 28.59406), (77.07379, 28.59404), (77.07377, 28.594), (77.07346, 28.59407), (77.07341, 28.59407), (77.07337, 28.59405), (77.07331, 28.59382)]\n"
     ]
    }
   ],
   "source": [
    "print(\"Encoded Polyline:\", encoded_polyline)\n",
    "print(\"Decoded Route:\", decoded_route)\n"
   ]
  },
  {
   "cell_type": "code",
   "execution_count": 8,
   "metadata": {},
   "outputs": [
    {
     "name": "stdout",
     "output_type": "stream",
     "text": [
      "   longitude   latitude                   geometry\n",
      "0  77.070819  28.590664  POINT (77.07082 28.59066)\n",
      "1  77.071500  28.591582   POINT (77.0715 28.59158)\n",
      "2  77.072300  28.592700    POINT (77.0723 28.5927)\n",
      "3  77.073400  28.593800    POINT (77.0734 28.5938)\n",
      "OSRM URL: https://router.project-osrm.org/route/v1/driving/77.070819,28.590664;77.0715,28.591582;77.0723,28.5927;77.0734,28.5938?overview=full\n",
      "OSRM Response: {'code': 'Ok', 'routes': [{'geometry': 'cbomDq|kuMNJJTR~@BVGNS`@FDFDR_@FMBI?O?OI]k@yB[ESEC?KCKEUCQCKAc@Ee@IMGKGOUE[@e@XoBHWFIHEHAZDb@HTDVJJDFFP?B?B?H?PDJ}@LmA@Ek@YqAUgASy@GOA]vCIDM?_Eu@i@SERCJ`B\\\\HBBF?JYzAe@pCEFE@UEa@Mq@[AB?DABALcBo@OIIIQQMQAMCY@]b@mDNuALBB?FBM|@?HBFl@J', 'legs': [{'steps': [], 'summary': '', 'weight': 3332.2, 'duration': 56.5, 'distance': 360.8}, {'steps': [], 'summary': '', 'weight': 3411.6, 'duration': 140.7, 'distance': 839.5}, {'steps': [], 'summary': '', 'weight': 3362.1, 'duration': 87.6, 'distance': 511.1}], 'weight_name': 'routability', 'weight': 10105.9, 'duration': 284.799999999, 'distance': 1711.4}], 'waypoints': [{'hint': 'SnpBkUJoAZMHAAAAEAAAAPcAAABhAAAAmGyrQCtDL0HFGCtDO-qFQgcAAAAQAAAA9wAAAGEAAAAICAEAeQKYBPdBtAHjAZgESEK0AQkAPw1AApHI', 'distance': 17.203226597, 'name': '', 'location': [77.070969, 28.590583]}, {'hint': 'QHpBkUV6QZEMAAAADAAAAGUAAAAcAQAAGh8PQd4K_EBmHY1C3h1GQwwAAAAMAAAAZQAAABwBAAAICAEArQSYBNBFtAGMBJgE3kW0AQUAnwFAApHI', 'distance': 3.582038265, 'name': '', 'location': [77.071533, 28.591568]}, {'hint': 'NnpBkTl6QZFCAAAAbQAAAGgAAABpAAAArTg6QkmNlkJxrZBC7niQQkIAAABtAAAAaAAAAGkAAAAICAEAwweYBH1KtAGsB5gEPEq0AQQA7xFAApHI', 'distance': 7.547129311, 'name': '', 'location': [77.072323, 28.592765]}, {'hint': 'iBpDkcRyAZNBAAAAJgAAAKkAAAAAAAAAerk2QnyT0EFjM-lCAAAAAEEAAAAmAAAAqQAAAAAAAAAICAEAoAuYBJpOtAH4C5gEiE60AQQA3wBAApHI', 'distance': 8.837564815, 'name': '', 'location': [77.073312, 28.593818]}]}\n",
      "User Guide: https://docs.kepler.gl/docs/keplergl-jupyter\n"
     ]
    },
    {
     "data": {
      "application/vnd.jupyter.widget-view+json": {
       "model_id": "08bf8e1ada804c26977cc5bb43dc279b",
       "version_major": 2,
       "version_minor": 0
      },
      "text/plain": [
       "KeplerGl(data={'Restaurants': {'index': [0, 1, 2, 3], 'columns': ['longitude', 'latitude'], 'data': [[77.07081…"
      ]
     },
     "metadata": {},
     "output_type": "display_data"
    }
   ],
   "source": [
    "import pandas as pd\n",
    "import geopandas as gpd\n",
    "from shapely.geometry import Point, LineString\n",
    "import leafmap\n",
    "import polyline\n",
    "import requests\n",
    "\n",
    "# Load the restaurant data\n",
    "df = pd.read_csv('restaurants1.csv')\n",
    "df = df[['longitude', 'latitude']]\n",
    "\n",
    "# Convert to GeoDataFrame\n",
    "geometry = gpd.GeoSeries.from_xy(df.longitude, df.latitude, crs=\"EPSG:4326\")\n",
    "gdf = gpd.GeoDataFrame(df, geometry=geometry, crs=\"EPSG:4326\")\n",
    "\n",
    "# Print GeoDataFrame\n",
    "print(gdf.head())\n",
    "\n",
    "# Generate route coordinates\n",
    "def get_route_coordinates(df):\n",
    "    coordinates = ';'.join([f\"{row['longitude']},{row['latitude']}\" for index, row in df.iterrows()])\n",
    "    return coordinates\n",
    "\n",
    "# Fetch route from OSRM\n",
    "def fetch_route(coordinates):\n",
    "    url = f\"https://router.project-osrm.org/route/v1/driving/{coordinates}?overview=full\"\n",
    "    print(\"OSRM URL:\", url)  # Print the URL being requested\n",
    "    \n",
    "    response = requests.get(url)\n",
    "    print(\"OSRM Response:\", response.json())  # Print the response JSON\n",
    "    \n",
    "    data = response.json()\n",
    "    return data['routes'][0]['geometry']\n",
    "\n",
    "# Decode polyline\n",
    "def decode_polyline(encoded_polyline):\n",
    "    decoded_polyline = polyline.decode(encoded_polyline, 5)\n",
    "    return [(lon, lat) for lat, lon in decoded_polyline]\n",
    "\n",
    "# Get route coordinates\n",
    "coordinates = get_route_coordinates(df)\n",
    "\n",
    "# Fetch and decode the route\n",
    "encoded_polyline = fetch_route(coordinates)\n",
    "decoded_route = decode_polyline(encoded_polyline)\n",
    "\n",
    "# Create Kepler.gl map\n",
    "import keplergl\n",
    "\n",
    "map_1 = keplergl.KeplerGl()\n",
    "\n",
    "# Add restaurant data to the map\n",
    "map_1.add_data(data=df, name=\"Restaurants\")\n",
    "\n",
    "# Convert route data to GeoJSON\n",
    "route_geojson = {\n",
    "    \"type\": \"FeatureCollection\",\n",
    "    \"features\": [{\n",
    "        \"type\": \"Feature\",\n",
    "        \"geometry\": {\n",
    "            \"type\": \"LineString\",\n",
    "            \"coordinates\": decoded_route\n",
    "        },\n",
    "        \"properties\": {}\n",
    "    }]\n",
    "}\n",
    "\n",
    "# Add route data to the map\n",
    "map_1.add_data(data=route_geojson, name=\"Route\")\n",
    "\n",
    "# Show the map\n",
    "map_1\n"
   ]
  }
 ],
 "metadata": {
  "kernelspec": {
   "display_name": "Python 3",
   "language": "python",
   "name": "python3"
  },
  "language_info": {
   "codemirror_mode": {
    "name": "ipython",
    "version": 3
   },
   "file_extension": ".py",
   "mimetype": "text/x-python",
   "name": "python",
   "nbconvert_exporter": "python",
   "pygments_lexer": "ipython3",
   "version": "3.11.9"
  }
 },
 "nbformat": 4,
 "nbformat_minor": 2
}
